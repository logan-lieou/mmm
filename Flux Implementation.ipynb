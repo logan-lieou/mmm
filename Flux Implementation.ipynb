{
 "cells": [
  {
   "cell_type": "code",
   "execution_count": 1,
   "source": [
    "using Flux"
   ],
   "outputs": [],
   "metadata": {}
  },
  {
   "cell_type": "code",
   "execution_count": 3,
   "source": [
    "function VGG16()\n",
    "   Chain(\n",
    "      Conv((3, 3), 3 => 64, relu, pad=(1, 1), stride=(1, 1)),\n",
    "      BatchNorm(64),\n",
    "      Conv((3, 3), 64 => 64, relu, pad=(1, 1), stride=(1, 1)),\n",
    "      BatchNorm(64),\n",
    "      MaxPool((2,2)),\n",
    "      Conv((3, 3), 64 => 128, relu, pad=(1, 1), stride=(1, 1)),\n",
    "      BatchNorm(128),\n",
    "      Conv((3, 3), 128 => 128, relu, pad=(1, 1), stride=(1, 1)),\n",
    "      BatchNorm(128),\n",
    "      MaxPool((2,2)),\n",
    "      Conv((3, 3), 128 => 256, relu, pad=(1, 1), stride=(1, 1)),\n",
    "      BatchNorm(256),\n",
    "      Conv((3, 3), 256 => 256, relu, pad=(1, 1), stride=(1, 1)),\n",
    "      BatchNorm(256),\n",
    "      Conv((3, 3), 256 => 256, relu, pad=(1, 1), stride=(1, 1)),\n",
    "      BatchNorm(256),\n",
    "      MaxPool((2,2)),\n",
    "      Conv((3, 3), 256 => 512, relu, pad=(1, 1), stride=(1, 1)),\n",
    "      BatchNorm(512),\n",
    "      Conv((3, 3), 512 => 512, relu, pad=(1, 1), stride=(1, 1)),\n",
    "      BatchNorm(512),\n",
    "      Conv((3, 3), 512 => 512, relu, pad=(1, 1), stride=(1, 1)),\n",
    "      BatchNorm(512),\n",
    "      MaxPool((2,2)),\n",
    "      Conv((3, 3), 512 => 512, relu, pad=(1, 1), stride=(1, 1)),\n",
    "      BatchNorm(512),\n",
    "      Conv((3, 3), 512 => 512, relu, pad=(1, 1), stride=(1, 1)),\n",
    "      BatchNorm(512),\n",
    "      Conv((3, 3), 512 => 512, relu, pad=(1, 1), stride=(1, 1)),\n",
    "      BatchNorm(512),\n",
    "      MaxPool((2,2)),\n",
    "      flatten,\n",
    "      Dense(512, 4096, relu),\n",
    "      Dropout(0.5),\n",
    "      Dense(4096, 4096, relu),\n",
    "      Dropout(0.5),\n",
    "      Dense(4096, 10)\n",
    "   )\n",
    "end"
   ],
   "outputs": [
    {
     "output_type": "execute_result",
     "data": {
      "text/plain": [
       "VGG16 (generic function with 1 method)"
      ]
     },
     "metadata": {},
     "execution_count": 3
    }
   ],
   "metadata": {}
  },
  {
   "cell_type": "code",
   "execution_count": null,
   "source": [],
   "outputs": [],
   "metadata": {}
  }
 ],
 "metadata": {
  "orig_nbformat": 4,
  "language_info": {
   "file_extension": ".jl",
   "name": "julia",
   "mimetype": "application/julia",
   "version": "1.6.1"
  },
  "kernelspec": {
   "name": "julia-1.6",
   "display_name": "Julia 1.6.1",
   "language": "julia"
  }
 },
 "nbformat": 4,
 "nbformat_minor": 2
}